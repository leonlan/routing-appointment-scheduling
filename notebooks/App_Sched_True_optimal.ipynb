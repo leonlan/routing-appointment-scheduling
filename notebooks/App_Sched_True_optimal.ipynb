{
 "cells": [
  {
   "cell_type": "code",
   "execution_count": 10,
   "id": "5d8d2e41",
   "metadata": {
    "ExecuteTime": {
     "end_time": "2022-05-24T13:04:04.672036Z",
     "start_time": "2022-05-24T13:04:04.667792Z"
    },
    "pycharm": {
     "name": "#%%\n"
    }
   },
   "outputs": [],
   "source": [
    "import math\n",
    "import numpy as np\n",
    "from scipy.optimize import minimize, LinearConstraint\n",
    "\n",
    "from scipy.stats import poisson\n",
    "from scipy.linalg.blas import dgemm, dgemv # matrix multiplication\n",
    "from scipy.linalg import inv # matrix inversion\n",
    "from scipy.sparse.linalg import expm # matrix exponential"
   ]
  },
  {
   "cell_type": "code",
   "execution_count": 11,
   "id": "2ef6071d",
   "metadata": {
    "ExecuteTime": {
     "end_time": "2022-05-24T13:04:04.832965Z",
     "start_time": "2022-05-24T13:04:04.824071Z"
    },
    "pycharm": {
     "name": "#%%\n"
    }
   },
   "outputs": [],
   "source": [
    "def phase_parameters(mean, SCV):\n",
    "    \"\"\"\n",
    "    Returns the initial distribution gamma and the transition rate\n",
    "    matrix T of the phase-fitted service times given the mean, SCV,\n",
    "    and the elapsed service time u of the client in service.\n",
    "    \"\"\"\n",
    "    \n",
    "    # weighted Erlang case\n",
    "    if SCV < 1:\n",
    "        \n",
    "        # parameters\n",
    "        K = math.floor(1/SCV)\n",
    "        p = ((K + 1) * SCV - math.sqrt((K + 1) * (1 - K * SCV))) / (SCV + 1)\n",
    "        mu = (K + 1 - p) / mean\n",
    "        \n",
    "        # initial distribution\n",
    "        gamma_i = np.zeros((1,K+1))\n",
    "        B_sf = poisson.cdf(K-1,mu) + (1 - p) * poisson.pmf(K,mu)\n",
    "        for z in range(K+1):\n",
    "            gamma_i[0,z] = poisson.pmf(z,mu) / B_sf\n",
    "        gamma_i[0,K] *= (1 - p) \n",
    "        \n",
    "        # transition rate matrix\n",
    "        Ti = -mu * np.eye(K+1)\n",
    "        for i in range(K-1):\n",
    "            Ti[i,i+1] = mu\n",
    "        Ti[K-1,K] = (1-p) * mu\n",
    "            \n",
    "    # hyperexponential case\n",
    "    else:\n",
    "        \n",
    "        # parameters\n",
    "        p = (1 + np.sqrt((SCV - 1) / (SCV + 1))) / 2\n",
    "        mu1 = 2 * p / mean\n",
    "        mu2 = 2 * (1 - p) / mean\n",
    "        \n",
    "        # initial distribution\n",
    "        gamma_i = np.zeros((1,2))\n",
    "        B_sf = p * np.exp(-mu1 ) + (1 - p) * np.exp(-mu2 )\n",
    "        gamma_i[0,0] = p * np.exp(-mu1 ) / B_sf\n",
    "        gamma_i[0,1] = 1 - gamma_i[0,0]\n",
    "        \n",
    "        # transition rate matrix\n",
    "        Ti = np.zeros((2,2))\n",
    "        Ti[0,0] = -mu1\n",
    "        Ti[1,1] = -mu2\n",
    "            \n",
    "    return gamma_i, Ti"
   ]
  },
  {
   "cell_type": "code",
   "execution_count": 12,
   "id": "55296baf",
   "metadata": {
    "ExecuteTime": {
     "end_time": "2022-05-24T13:04:05.032354Z",
     "start_time": "2022-05-24T13:04:05.011151Z"
    },
    "pycharm": {
     "name": "#%%\n"
    }
   },
   "outputs": [],
   "source": [
    "def create_Vn(gamma, T):\n",
    "    \"\"\"\n",
    "    Creates the matrix Vn given the\n",
    "    initial distributions gamma and the\n",
    "    corresponding transition matrices T.\n",
    "    \"\"\"\n",
    "    \n",
    "    # initialize Vn\n",
    "    n = len(T)\n",
    "    d = [T[i].shape[0] for i in range(n)]\n",
    "    dim_V = np.cumsum([0] + d)\n",
    "    Vn = np.zeros((dim_V[n], dim_V[n]))\n",
    "    \n",
    "    # compute Vn recursively\n",
    "    for i in range(1,n):\n",
    "        Vn[dim_V[i-1]:dim_V[i], dim_V[i-1]:dim_V[i]] = T[i-1]\n",
    "        Vn[dim_V[i-1]:dim_V[i], dim_V[i]:dim_V[i+1]] = np.matrix(-T[i-1] @ np.ones((d[i-1],1))) @ gamma[i]\n",
    "            \n",
    "    Vn[dim_V[n-1]:dim_V[n], dim_V[n-1]:dim_V[n]] = T[n-1]\n",
    "    \n",
    "    return Vn"
   ]
  },
  {
   "cell_type": "code",
   "execution_count": 13,
   "id": "d174c274",
   "metadata": {
    "ExecuteTime": {
     "end_time": "2022-05-24T13:04:05.422363Z",
     "start_time": "2022-05-24T13:04:05.405342Z"
    },
    "pycharm": {
     "name": "#%%\n"
    }
   },
   "outputs": [],
   "source": [
    "def cost(x, gamma, Vn, Vn_inv, omega_b):\n",
    "    \"\"\"\n",
    "    Evaluates the cost function given all parameters.\n",
    "    \"\"\"\n",
    "    \n",
    "    n = len(gamma)\n",
    "    N = x.shape[0] # n - wis\n",
    "    \n",
    "    Pi = gamma[0]\n",
    "    cost = omega * np.sum(x)\n",
    "    sum_di = 0\n",
    "    \n",
    "        \n",
    "    # cost of clients to be scheduled\n",
    "    for i in range(1,n+1):\n",
    "        \n",
    "        sum_di += gamma[i-1].shape[1]\n",
    "        \n",
    "        exp_Vi = expm(Vn[0:sum_di,0:sum_di] * x[i-1])\n",
    "        \n",
    "        cost += float(dgemv(1, dgemm(1, Pi, Vn_inv[0:sum_di,0:sum_di]), np.sum(omega_b * np.eye(sum_di) - exp_Vi,1)))\n",
    "        \n",
    "        if i == n:\n",
    "            break\n",
    "        \n",
    "        P = dgemm(1, Pi, exp_Vi)\n",
    "        Fi = 1 - np.sum(P)\n",
    "        Pi = np.hstack((np.matrix(P), gamma[i] * Fi))\n",
    "        \n",
    "    return cost"
   ]
  },
  {
   "cell_type": "code",
   "execution_count": 14,
   "id": "914e6193",
   "metadata": {
    "ExecuteTime": {
     "end_time": "2022-05-24T13:04:07.207397Z",
     "start_time": "2022-05-24T13:04:07.195399Z"
    },
    "pycharm": {
     "name": "#%%\n"
    }
   },
   "outputs": [],
   "source": [
    "def Transient_IA(means, SCVs, omega, tol=None):\n",
    "    \"\"\"\n",
    "    Computes the optimal schedule.\n",
    "    wis = waiting in system. # N = n + wis\n",
    "    \"\"\"\n",
    "        \n",
    "    n = len(means)\n",
    "    gamma, T = zip(*[phase_parameters(means[i], SCVs[i]) for i in range(n)])\n",
    "    Vn = create_Vn(gamma, T)\n",
    "    Vn_inv = inv(Vn)\n",
    "    \n",
    "    # minimization\n",
    "    x0 = np.array([1.5] + [1.5] * (n  - 1)) # initial guess, of length n \n",
    "    cost_fun = lambda x: cost(x, gamma, Vn, Vn_inv, omega_b)\n",
    "    lin_cons = LinearConstraint(np.eye(n), 0, np.inf)  \n",
    "    optim = minimize(cost_fun, x0, constraints=lin_cons, method='SLSQP', tol=tol)\n",
    "        \n",
    "    return optim.x, optim.fun"
   ]
  },
  {
   "cell_type": "code",
   "execution_count": 15,
   "id": "400aa5f7",
   "metadata": {
    "ExecuteTime": {
     "end_time": "2022-05-24T13:12:35.427213Z",
     "start_time": "2022-05-24T13:12:34.721016Z"
    },
    "pycharm": {
     "name": "#%%\n"
    }
   },
   "outputs": [
    {
     "data": {
      "text/plain": [
       "(array([0.12324929, 0.29232458, 0.33362237, 0.34655884, 0.35010092,\n",
       "        0.34723355, 0.33850544, 0.32247991, 0.29126939, 0.21868121]),\n",
       " 1.1475057306039138)"
      ]
     },
     "execution_count": 15,
     "metadata": {},
     "output_type": "execute_result"
    }
   ],
   "source": [
    "n = 10    \n",
    "omega_b = 0.8\n",
    "\n",
    "means=[0.5]*n\n",
    "SCVs=[0.5]*n\n",
    "#means = [0.5] * 10 + [1.5] * 10 + [0.5] * 10\n",
    "#print(means)\n",
    "#SCVs = [0.5] * 10 + [1.2] * 10 + [0.5] * 10\n",
    "\n",
    "Transient_IA(means, SCVs, omega_b)\n"
   ]
  },
  {
   "cell_type": "code",
   "execution_count": null,
   "id": "671b0189",
   "metadata": {
    "pycharm": {
     "name": "#%%\n"
    }
   },
   "outputs": [],
   "source": []
  }
 ],
 "metadata": {
  "kernelspec": {
   "display_name": "Python 3",
   "language": "python",
   "name": "python3"
  },
  "language_info": {
   "codemirror_mode": {
    "name": "ipython",
    "version": 3
   },
   "file_extension": ".py",
   "mimetype": "text/x-python",
   "name": "python",
   "nbconvert_exporter": "python",
   "pygments_lexer": "ipython3",
   "version": "3.8.8"
  }
 },
 "nbformat": 4,
 "nbformat_minor": 5
}