{
 "cells": [
  {
   "cell_type": "code",
   "execution_count": 89,
   "id": "0dd2a88a",
   "metadata": {},
   "outputs": [
    {
     "name": "stdout",
     "output_type": "stream",
     "text": [
      "[2, 10, 5, 2, 4, 2, 4, 10, 2, 8]\n",
      "[ 2.5 10.5  5.5  2.5  4.5  2.5  4.5 10.5  2.5  8.5] [0.165 1.125 0.375 0.165 0.285 0.165 0.285 1.125 0.165 0.765] [0.0264     0.01020408 0.01239669 0.0264     0.01407407 0.0264\n",
      " 0.01407407 0.01020408 0.0264     0.01058824]\n"
     ]
    }
   ],
   "source": [
    "import numpy as np\n",
    "\n",
    "n = 10    \n",
    "omega_b = 0.8\n",
    "\n",
    "m_b=[0.5]*n # mean of service time\n",
    "S_b=[0.5]*n # scv for service time\n",
    "\n",
    "Z_t=np.matrix('0    10     3     8     4     3     3     2     8     1 ; 10     0     9     2     7     7    10    12     2     8;  3     9     0     7     2     2     1     3     7     4; 8     2     7     0     8     5     8    10     2     6 ; 4     7     2     8     0     3      4     6     5     5;   3     7     2     5     3     0     3     5     5     2;3    10     1     8     4     3     0     2     8     4;  2    12     3     10     6     5     2     0    10     4;   8     2     7     2     5     5     8    10     0     6; 1     8     4     6     5     2     4     4     6     0')\n",
    "# currently both r, rl are obtained from milp via matlab \n",
    "r = np.array([0, 7, 3, 5, 9, 2, 4, 6, 1, 8]) #obtain a route such that it starts and end at the depot say in this case 0th node \n",
    "rl=24 \n",
    "\n",
    "A=np.zeros((n,n), dtype=int)\n",
    "E_t=np.zeros((n,n), dtype=int)\n",
    "\n",
    "\n",
    "e_t=[None]*n # mean travel time based on route \n",
    "for i in range (0, n-1):\n",
    "    e_t[i]=Z_t[r[i],r[i+1]]\n",
    "    \n",
    "e_t[n-1]= Z_t[r[n-1],r[0]]   \n",
    "\n",
    "print(e_t)\n",
    "\n",
    "\n",
    "#a=  [r[n-2],r[n-1]]\n",
    "#print(a)\n",
    "\n",
    "sigm=0.1 #a scv matrix can be added instead of sigma with randomly chosen values between [0.1, 0.4] and then chosen based on the route just like e_t\n",
    "\n",
    "# for the other option sigma can look like sigm=[0.3 0.2 0.4 0.1 0.1 0.3 0.2 0.1 0.4 0.2] \n",
    "\n",
    "V_t=pow(sigm,2)*np.power(e_t,2) #variance of travel matrix scv*(mean^2)\n",
    "\n",
    "V_b=S_b*np.power(m_b,2) # variance of service time \n",
    "\n",
    "means= np.add(e_t,m_b)\n",
    "var_sum=np.add(V_t, V_b)\n",
    "denom=np.power(means,2)\n",
    "SCVs= np.divide(var_sum, denom)\n",
    "\n",
    "\n",
    "#from here we have means and SCVs of variable U which is sum of both travel and service times, now this can be given to any of the programs via transientIA \n",
    "\n"
   ]
  },
  {
   "cell_type": "code",
   "execution_count": null,
   "id": "f9f07494",
   "metadata": {},
   "outputs": [],
   "source": []
  },
  {
   "cell_type": "code",
   "execution_count": null,
   "id": "437b6063",
   "metadata": {},
   "outputs": [],
   "source": []
  }
 ],
 "metadata": {
  "kernelspec": {
   "display_name": "Python 3",
   "language": "python",
   "name": "python3"
  },
  "language_info": {
   "codemirror_mode": {
    "name": "ipython",
    "version": 3
   },
   "file_extension": ".py",
   "mimetype": "text/x-python",
   "name": "python",
   "nbconvert_exporter": "python",
   "pygments_lexer": "ipython3",
   "version": "3.8.8"
  }
 },
 "nbformat": 4,
 "nbformat_minor": 5
}
