{
 "cells": [
  {
   "cell_type": "markdown",
   "id": "43f3d7df-4450-453d-876b-df4cb9a7368a",
   "metadata": {},
   "source": [
    "# Generating problem instances\n",
    "This notebook is used to generate a set of problem instances for the traveling salesman problem with appointment scheduling (TSP-AS).\n",
    "The generation procedure follows the one from [Zhan et al. (2021)](https://doi.org/10.1016/j.ejor.2020.05.037). "
   ]
  },
  {
   "cell_type": "markdown",
   "id": "3339ac22-4f1e-49b5-aa33-db7d2d3d07b0",
   "metadata": {},
   "source": [
    "## Literature\n",
    "Following the paper by Zhan, Wang and Wan (2021) in EJOR, these are the most important points to mimic:\n",
    "- Origin is located at (0, 0)\n",
    "- Customers are located uniformly randomly on a [0, 50]^2 square.\n",
    "- Travel time between two locations is equal to their Euclidean distance.\n",
    "- Customer's mean service times $\\mu$ are sampled from U(30, 60).\n",
    "\n",
    "Some differences:\n",
    "- We don't need to sample the service times. Instead, we are using SCVs.\n",
    "- We don't distinguish between uniform and normal service time distributions. (Same points as above)."
   ]
  },
  {
   "cell_type": "markdown",
   "id": "f8eb79a9-683c-4613-85d8-f3fc8dbf64c4",
   "metadata": {},
   "source": [
    "## Experimental setup\n",
    "- **Instance size**\n",
    "    - small (6, 8, 10)\n",
    "    - large (20, 30, 40)\n",
    "\n",
    "For each instance size, we create 10 different geographies.\n",
    "For each instance size and geography, we consider two types of SCVs (low and high)."
   ]
  },
  {
   "cell_type": "markdown",
   "id": "9742b8bb-c44a-40d4-a9f1-2f477e0dffdd",
   "metadata": {},
   "source": [
    "# Generating instances"
   ]
  },
  {
   "cell_type": "code",
   "execution_count": 1,
   "id": "ca6f3291-cfa1-4976-905d-d6e2cfe0bd9a",
   "metadata": {
    "tags": []
   },
   "outputs": [],
   "source": [
    "import json\n",
    "from pathlib import Path\n",
    "\n",
    "import matplotlib.pyplot as plt\n",
    "import numpy as np\n",
    "import numpy.random as rnd\n",
    "\n",
    "from tsp_as.classes import ProblemData, Solution\n",
    "from tsp_as.plot import plot_instance"
   ]
  },
  {
   "cell_type": "code",
   "execution_count": 2,
   "id": "2a4255f5-d134-49af-ab31-40d2a7331b78",
   "metadata": {
    "tags": []
   },
   "outputs": [],
   "source": [
    "def make_random(\n",
    "    seed,\n",
    "    dim,\n",
    "    max_size,\n",
    "    mean_service_time,\n",
    "    service_distribution,\n",
    "    min_size=0,\n",
    "    min_service_time=0,\n",
    "    distances_scv_min=0.1,\n",
    "    distances_scv_max=0.1,\n",
    "    service_scv_min=1.1,\n",
    "    service_scv_max=1.5,\n",
    "    coords=None,\n",
    "    name=None,\n",
    "    **kwargs,\n",
    "):\n",
    "    \"\"\"\n",
    "    Creates a random instance with ``dimension`` locations.\n",
    "\n",
    "    - Customer locations are randomly sampled from a grid of size `max_size`.\n",
    "    - Travel times are equal to the Euclidean distance.\n",
    "    - Service times are either uniform or normally distributed.\n",
    "    - SCVs are sampled uniformly from a provided interval.\n",
    "    \"\"\"\n",
    "    rng = rnd.default_rng(seed)\n",
    "    name = \"Random instance.\" if name is None else name\n",
    "    \n",
    "    if coords is None:\n",
    "        coords = rng.integers(min_size, max_size, size=(dim, 2))\n",
    "        coords[0, :] = [0, 0]  # depot location\n",
    "\n",
    "    distances = pairwise_euclidean(coords)\n",
    "    distances_scv = rng.uniform(\n",
    "        low=distances_scv_min,\n",
    "        high=distances_scv_max,\n",
    "        size=distances.shape,\n",
    "    )\n",
    "    np.fill_diagonal(distances_scv, 0)  # no scv travel time on loops\n",
    "\n",
    "    if service_distribution == 'uniform':\n",
    "        service = rng.integers(min_service_time, mean_service_time, size=dim) + 1\n",
    "    elif service_distribution == 'exponential':\n",
    "        service = np.maximum(rng.normal(mean_service_time, 0.5*mean_service_time, size=dim), 1)\n",
    "    else:\n",
    "        raise ValueError(\"Service type distribution unknown.\")\n",
    "        \n",
    "    if 'service_scv' in kwargs and kwargs['service_scv'] is not None:\n",
    "        service_scv = kwargs['service_scv']\n",
    "    else:\n",
    "        service_scv = rng.uniform(\n",
    "            low=service_scv_min,\n",
    "            high=service_scv_max,\n",
    "            size=service.shape,\n",
    "        )\n",
    "\n",
    "        \n",
    "    service[0] = 0  # depot has no service time\n",
    "    service_scv[0] = 0\n",
    "\n",
    "    return ProblemData(\n",
    "        name,\n",
    "        coords,\n",
    "        dim,\n",
    "        distances,\n",
    "        distances_scv,\n",
    "        service,\n",
    "        service_scv,\n",
    "        # **kwargs,\n",
    "    )\n",
    "\n",
    "def pairwise_euclidean(coords: np.ndarray) -> np.ndarray:\n",
    "    \"\"\"\n",
    "    Computes the pairwise Euclidean distance between the passed-in coordinates.\n",
    "\n",
    "    Parameters\n",
    "    ----------\n",
    "    coords\n",
    "        An n-by-2 array of location coordinates.\n",
    "\n",
    "    Returns\n",
    "    -------\n",
    "    np.ndarray\n",
    "        An n-by-n Euclidean distances matrix.\n",
    "\n",
    "    \"\"\"\n",
    "    # Subtract each coordinate from every other coordinate\n",
    "    diff = coords[:, np.newaxis, :] - coords\n",
    "    square_diff = diff ** 2\n",
    "    square_dist = np.sum(square_diff, axis=-1)\n",
    "    return np.sqrt(square_dist)"
   ]
  },
  {
   "cell_type": "code",
   "execution_count": 4,
   "id": "e896ba55-6f05-466f-880b-c5d2a5c36b2b",
   "metadata": {
    "tags": []
   },
   "outputs": [],
   "source": [
    "class NumpyEncoder(json.JSONEncoder):\n",
    "    def default(self, obj):\n",
    "        if isinstance(obj, np.ndarray):\n",
    "            return np.round(obj, 3).tolist()\n",
    "        return json.JSONEncoder.default(self, obj)\n",
    "\n",
    "def data2dict(data):\n",
    "    return {\n",
    "        'coords': data.coords,\n",
    "        'dimension': data.dimension,\n",
    "        'distances': data.distances,\n",
    "        'distances_scv': data.distances_scv,\n",
    "        'service_scv': data.service_scv,\n",
    "        'service': data.service,\n",
    "    }\n",
    "\n",
    "def save_data(data, out_dir):\n",
    "    path_dir = Path(out_dir)\n",
    "    path_dir.mkdir(exist_ok=True, parents=True)\n",
    "    path_file = path_dir / (data.name + '.json')\n",
    " \n",
    "    with open(path_file, 'w', encoding='utf-8') as fh:\n",
    "        json.dump(data2dict(data), fh, ensure_ascii=False, indent=4, cls=NumpyEncoder)"
   ]
  },
  {
   "cell_type": "markdown",
   "id": "8192134f-33a1-4e35-bdb7-32a4d9c121ba",
   "metadata": {},
   "source": [
    "## Generate instances"
   ]
  },
  {
   "cell_type": "code",
   "execution_count": 13,
   "id": "3ce39003-78ee-4f14-aa37-383dfa7604c9",
   "metadata": {
    "tags": []
   },
   "outputs": [],
   "source": [
    "design = {\n",
    "    'instance_idx': list(range(20)), # determines geography\n",
    "    'n_customers': [6, 8, 10, 15, 20, 25, 30, 35, 40], # \n",
    "    'service_distribution': ['uniform'], # fixed\n",
    "    'distances_scv': [(0.15, 0.15)], # fixed\n",
    "    'service_scv': [(0.15, 0.5), (0.5, 1.5)],\n",
    "}"
   ]
  },
  {
   "cell_type": "code",
   "execution_count": 12,
   "id": "443544e9-0d23-4b2b-abaa-b8f85d6eb78e",
   "metadata": {
    "tags": []
   },
   "outputs": [],
   "source": [
    "for n_customers in design['n_customers']:\n",
    "    for instance_idx in design['instance_idx']:\n",
    "        for sd_idx, service_distribution in enumerate(design['service_distribution']):\n",
    "            for d_idx, distances_scv in enumerate(design['distances_scv']):\n",
    "                for s_idx, service_scv in enumerate(design['service_scv']):\n",
    "                    name = f\"n{n_customers}-idx{instance_idx}-distribution{sd_idx}-travel{d_idx}-serv{s_idx}\"\n",
    "                    \n",
    "                    data = make_random(\n",
    "                        seed=instance_idx, # determines locations\n",
    "                        dim=n_customers+1, \n",
    "                        max_size=50, \n",
    "                        mean_service_time=60,\n",
    "                        min_service_time=30,\n",
    "                        service_distribution=service_distribution,\n",
    "                        distances_scv_min=distances_scv[0],\n",
    "                        distances_scv_max=distances_scv[1],\n",
    "                        service_scv_min=service_scv[0],\n",
    "                        service_scv_max=service_scv[1],\n",
    "                        name=name\n",
    "                    )\n",
    "\n",
    "                    save_data(data, '../experiments/230612-zhan-instances')"
   ]
  }
 ],
 "metadata": {
  "kernelspec": {
   "display_name": "Python 3 (ipykernel)",
   "language": "python",
   "name": "python3"
  },
  "language_info": {
   "codemirror_mode": {
    "name": "ipython",
    "version": 3
   },
   "file_extension": ".py",
   "mimetype": "text/x-python",
   "name": "python",
   "nbconvert_exporter": "python",
   "pygments_lexer": "ipython3",
   "version": "3.10.10"
  }
 },
 "nbformat": 4,
 "nbformat_minor": 5
}
